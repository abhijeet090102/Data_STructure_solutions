{
 "cells": [
  {
   "cell_type": "markdown",
   "id": "098aaec7-c371-4d72-8c47-678d395c967e",
   "metadata": {},
   "source": [
    "# Heap Sort"
   ]
  },
  {
   "cell_type": "code",
   "execution_count": 5,
   "id": "ea9d6998-1351-4ff9-8815-a6527e38998e",
   "metadata": {},
   "outputs": [],
   "source": [
    "class heapTree:\n",
    "    def MAxheapify(self,a,i,s):\n",
    "        l = 2*i+1\n",
    "        r = 2*i+2\n",
    "        large = 0\n",
    "        if r<s and a[r] >= a[i]:\n",
    "            large = r\n",
    "        else:\n",
    "            large = i\n",
    "        if l<s and a[l] > a[large]:\n",
    "            large = l\n",
    "        if large != i:\n",
    "            a[i] , a[large] = a[large],a[i]\n",
    "            self.MAxheapify(a,large,s)\n",
    "    def Build_max_heap(self,a):\n",
    "        for i in range(len(a)//2,0,-1):\n",
    "            self.MAxheapify(a,i-1,len(a))\n",
    "    def HeapSorT(self,a):\n",
    "        self.Build_max_heap(a)\n",
    "        for i in range(len(a)-1,0,-1):\n",
    "            a[0],a[i] = a[i],a[0]\n",
    "            self.MAxheapify(a,0,i)\n",
    "        print(a)\n"
   ]
  },
  {
   "cell_type": "code",
   "execution_count": 6,
   "id": "3a84541d-2de6-4f22-8451-76ceaa817d01",
   "metadata": {},
   "outputs": [
    {
     "name": "stdout",
     "output_type": "stream",
     "text": [
      "[25, 30, 32, 35, 36, 40, 48, 50, 55, 60, 63, 90, 95]\n"
     ]
    }
   ],
   "source": [
    "st = [30,60,90,40,50,32,55,63,95,36,25,48,35]\n",
    "ob = heapTree()\n",
    "ob.HeapSorT(st)"
   ]
  },
  {
   "cell_type": "code",
   "execution_count": null,
   "id": "967baf97-0f7b-49a3-a150-10a0ce78e6a8",
   "metadata": {},
   "outputs": [],
   "source": []
  }
 ],
 "metadata": {
  "kernelspec": {
   "display_name": "Python 3 (ipykernel)",
   "language": "python",
   "name": "python3"
  },
  "language_info": {
   "codemirror_mode": {
    "name": "ipython",
    "version": 3
   },
   "file_extension": ".py",
   "mimetype": "text/x-python",
   "name": "python",
   "nbconvert_exporter": "python",
   "pygments_lexer": "ipython3",
   "version": "3.12.1"
  }
 },
 "nbformat": 4,
 "nbformat_minor": 5
}

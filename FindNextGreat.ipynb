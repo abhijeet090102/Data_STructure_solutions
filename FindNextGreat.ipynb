{
 "cells": [
  {
   "cell_type": "code",
   "execution_count": 12,
   "id": "2b039c4e-f3ae-4580-aae1-c32099e744d8",
   "metadata": {},
   "outputs": [
    {
     "name": "stdout",
     "output_type": "stream",
     "text": [
      "[-1, 3, -1]\n"
     ]
    }
   ],
   "source": [
    "class greater:\n",
    "    def GreEle(self, lst1 : list,lst2 :list) -> list:\n",
    "        self.st = []\n",
    "        for i in lst1:\n",
    "            gre = -1\n",
    "            for j in range(len(lst2)):\n",
    "                if i == lst2[j] :\n",
    "                    for k in range(j+1 , len(lst2)):\n",
    "                        if lst2[k] > i:\n",
    "                            gre = lst2[k]\n",
    "                            break\n",
    "                    break\n",
    "            self.st.append(gre)\n",
    "        return self.st\n",
    "numa1 = [4, 1, 2]\n",
    "numa2 = [1, 3, 4, 2]\n",
    "rest = greater()\n",
    "result =rest.GreEle(numa1,numa2)\n",
    "print(result)"
   ]
  },
  {
   "cell_type": "code",
   "execution_count": null,
   "id": "c6595d9c-6d88-47dd-a170-0c5dc2f82c57",
   "metadata": {},
   "outputs": [],
   "source": []
  }
 ],
 "metadata": {
  "kernelspec": {
   "display_name": "Python 3 (ipykernel)",
   "language": "python",
   "name": "python3"
  },
  "language_info": {
   "codemirror_mode": {
    "name": "ipython",
    "version": 3
   },
   "file_extension": ".py",
   "mimetype": "text/x-python",
   "name": "python",
   "nbconvert_exporter": "python",
   "pygments_lexer": "ipython3",
   "version": "3.12.1"
  }
 },
 "nbformat": 4,
 "nbformat_minor": 5
}

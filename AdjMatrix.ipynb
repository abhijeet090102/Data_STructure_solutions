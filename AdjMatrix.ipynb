{
 "cells": [
  {
   "cell_type": "markdown",
   "id": "b25940e0-1c39-4188-bef8-b9c65d0695c8",
   "metadata": {},
   "source": [
    "# Adj Matrix"
   ]
  },
  {
   "cell_type": "code",
   "execution_count": 11,
   "id": "6aed6651-8867-49f9-b671-86f945848af9",
   "metadata": {},
   "outputs": [],
   "source": [
    "class AdjMatrix:\n",
    "    def __init__(self,v,e):\n",
    "        self.vert = v\n",
    "        self.mat =[[0 for i in range(v)] for i in range(v)]\n",
    "        self.edge = e\n",
    "        for i in range(self.edge):\n",
    "            st = int(input(\"Enter the start vertex \"))\n",
    "            en= int(input(\"Enter the end vertex \"))\n",
    "            self.mat[st][en]=1\n",
    "            self.mat[en][st] =1\n",
    "    def travarse(self):\n",
    "        print(self.mat)\n",
    "    def degree (self):\n",
    "        for i in range(self.vert):\n",
    "            count = 0\n",
    "            for j in range(self.vert):\n",
    "                count += self.mat[i][j] \n",
    "            print(f'degree of vertices {i} is ',count)\n",
    "       "
   ]
  },
  {
   "cell_type": "code",
   "execution_count": 12,
   "id": "700ca138-d784-4fa7-97cd-47bfb907ee8a",
   "metadata": {},
   "outputs": [
    {
     "name": "stdin",
     "output_type": "stream",
     "text": [
      "Enter the start vertex  0\n",
      "Enter the end vertex  1\n",
      "Enter the start vertex  2\n",
      "Enter the end vertex  1\n",
      "Enter the start vertex  0\n",
      "Enter the end vertex  3\n",
      "Enter the start vertex  1\n",
      "Enter the end vertex  3\n",
      "Enter the start vertex  1\n",
      "Enter the end vertex  4\n",
      "Enter the start vertex  2\n",
      "Enter the end vertex  0\n",
      "Enter the start vertex  3\n",
      "Enter the end vertex  1\n"
     ]
    },
    {
     "name": "stdout",
     "output_type": "stream",
     "text": [
      "[[0, 1, 1, 1, 0], [1, 0, 1, 1, 1], [1, 1, 0, 0, 0], [1, 1, 0, 0, 0], [0, 1, 0, 0, 0]]\n",
      "degree of vertices 0 is  3\n",
      "degree of vertices 1 is  4\n",
      "degree of vertices 2 is  2\n",
      "degree of vertices 3 is  2\n",
      "degree of vertices 4 is  1\n"
     ]
    }
   ],
   "source": [
    "adma = AdjMatrix(5,7) \n",
    "adma.travarse()\n",
    "adma.degree()"
   ]
  },
  {
   "cell_type": "code",
   "execution_count": null,
   "id": "787b8b24-055b-427f-90f2-175f13ddd23e",
   "metadata": {},
   "outputs": [],
   "source": []
  }
 ],
 "metadata": {
  "kernelspec": {
   "display_name": "Python 3 (ipykernel)",
   "language": "python",
   "name": "python3"
  },
  "language_info": {
   "codemirror_mode": {
    "name": "ipython",
    "version": 3
   },
   "file_extension": ".py",
   "mimetype": "text/x-python",
   "name": "python",
   "nbconvert_exporter": "python",
   "pygments_lexer": "ipython3",
   "version": "3.12.1"
  }
 },
 "nbformat": 4,
 "nbformat_minor": 5
}

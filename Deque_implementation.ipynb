{
 "cells": [
  {
   "cell_type": "markdown",
   "id": "5d4d8f5d-7b8f-441f-9a75-c9c58f37dea5",
   "metadata": {},
   "source": [
    "# Double ended queue (deque) "
   ]
  },
  {
   "cell_type": "markdown",
   "id": "b513d912-5e48-45d5-addc-8e0a6031c868",
   "metadata": {},
   "source": [
    "# pronounced as 'deck'"
   ]
  },
  {
   "cell_type": "raw",
   "id": "7e21140d-f7fe-4364-b320-f919e77e47ec",
   "metadata": {},
   "source": [
    "Here’s a summary of the main characteristics of deque:\n",
    "\n",
    "Stores items of any data type\n",
    "Is a mutable data type\n",
    "Supports membership operations with the in operator\n",
    "Supports indexing, like in a_deque[i]\n",
    "Doesn’t support slicing, like in a_deque[0:2]\n",
    "Supports built-in functions that operate on sequences and iterables, such as len(), sorted(), reversed(), and more\n",
    "Doesn’t support in-place sorting\n",
    "Supports normal and reverse iteration\n",
    "Supports pickling with pickle\n",
    "Ensures fast, memory-efficient, and thread-safe pop and append operations on both ends"
   ]
  },
  {
   "cell_type": "code",
   "execution_count": 3,
   "id": "7719ae31-6e22-4e71-a557-3cd2bd40a890",
   "metadata": {},
   "outputs": [],
   "source": [
    "from collections import deque"
   ]
  },
  {
   "cell_type": "code",
   "execution_count": 8,
   "id": "18f29f70-d216-4803-bc58-088ed32add95",
   "metadata": {},
   "outputs": [
    {
     "name": "stdout",
     "output_type": "stream",
     "text": [
      "deque([])\n",
      "deque(['name', 'age', 'address'])\n",
      "deque([1, 2, 3, 4, 5, 6, 7])\n"
     ]
    }
   ],
   "source": [
    "q = deque([])\n",
    "print(q)\n",
    "que = deque(['name' , 'age', 'address'])\n",
    "print(que)\n",
    "q = deque(range(1,8))\n",
    "print(q)"
   ]
  },
  {
   "cell_type": "code",
   "execution_count": 13,
   "id": "a2f8e633-6e6e-4915-aa8f-5b71b6c164fa",
   "metadata": {},
   "outputs": [
    {
     "name": "stdout",
     "output_type": "stream",
     "text": [
      "deque(['name', 'age', 'gender'])\n",
      "deque(['abhi', 22, 'male'])\n",
      "deque([('name', 'abhi'), ('age', 22), ('gender', 'male')])\n"
     ]
    }
   ],
   "source": [
    "dq = {'name':'abhi', 'age':22,'gender':'male'}\n",
    "print(deque(dq.keys()))\n",
    "print(deque(dq.values()))\n",
    "print(deque(dq.items()))"
   ]
  },
  {
   "cell_type": "code",
   "execution_count": 29,
   "id": "501568c2-fd2a-4a0f-a295-aef6fa769172",
   "metadata": {},
   "outputs": [
    {
     "name": "stdout",
     "output_type": "stream",
     "text": [
      "deque([], maxlen=8)\n",
      "deque([1], maxlen=8)\n",
      "deque([1, 2], maxlen=8)\n",
      "deque([1, 2, 3], maxlen=8)\n",
      "deque([1, 2, 3, 4], maxlen=8)\n"
     ]
    }
   ],
   "source": [
    "dqu = deque(maxlen=8)\n",
    "print(dqu)\n",
    "for i in range(1,5):\n",
    "    dqu.append(i)\n",
    "    print(dqu)"
   ]
  },
  {
   "cell_type": "code",
   "execution_count": 30,
   "id": "cc220e11-8f36-4d6e-a0cb-38149e8b8969",
   "metadata": {},
   "outputs": [
    {
     "name": "stdout",
     "output_type": "stream",
     "text": [
      "deque([2, 3, 4], maxlen=8)\n",
      "deque([5, 2, 3, 4], maxlen=8)\n"
     ]
    }
   ],
   "source": [
    "dqu.popleft()\n",
    "print(dqu)\n",
    "dqu.appendleft(5)\n",
    "print(dqu)"
   ]
  },
  {
   "cell_type": "raw",
   "id": "0342800f-ea1a-4af4-b10e-6b9a5cec5ff2",
   "metadata": {},
   "source": [
    "in deque pop delete from end and takes no arguments "
   ]
  },
  {
   "cell_type": "code",
   "execution_count": 31,
   "id": "b4b7f0bf-9c3a-44fc-b55c-1a5fe6984daa",
   "metadata": {},
   "outputs": [
    {
     "name": "stdout",
     "output_type": "stream",
     "text": [
      "deque([5, 2, 3], maxlen=8)\n"
     ]
    }
   ],
   "source": [
    "dqu.pop()\n",
    "print(dqu)"
   ]
  },
  {
   "cell_type": "code",
   "execution_count": null,
   "id": "ff8f2c88-bf09-4162-a7b0-4a11eb7c35dd",
   "metadata": {},
   "outputs": [],
   "source": []
  }
 ],
 "metadata": {
  "kernelspec": {
   "display_name": "Python 3 (ipykernel)",
   "language": "python",
   "name": "python3"
  },
  "language_info": {
   "codemirror_mode": {
    "name": "ipython",
    "version": 3
   },
   "file_extension": ".py",
   "mimetype": "text/x-python",
   "name": "python",
   "nbconvert_exporter": "python",
   "pygments_lexer": "ipython3",
   "version": "3.12.1"
  }
 },
 "nbformat": 4,
 "nbformat_minor": 5
}

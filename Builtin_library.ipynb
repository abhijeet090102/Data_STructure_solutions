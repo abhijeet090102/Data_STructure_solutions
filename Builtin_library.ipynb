{
 "cells": [
  {
   "cell_type": "markdown",
   "id": "bd8b69e0-a65c-4255-9cc6-9530b75c318f",
   "metadata": {},
   "source": [
    "# Python built-in library"
   ]
  },
  {
   "cell_type": "code",
   "execution_count": 27,
   "id": "0c47715d-4ef2-458d-ba96-5a01d059360f",
   "metadata": {},
   "outputs": [
    {
     "name": "stdout",
     "output_type": "stream",
     "text": [
      "4\n",
      "4\n"
     ]
    }
   ],
   "source": [
    "class builtIn:\n",
    "    def __init__(self,n):\n",
    "        self.num = n\n",
    "    def __abs__(self,n):\n",
    "        self.numa = n\n",
    "    def display(self):\n",
    "        print (self.num)\n",
    "        print(self.numa)\n",
    "am = builtIn(4)\n",
    "am.__abs__(4)\n",
    "am.display()"
   ]
  },
  {
   "cell_type": "code",
   "execution_count": null,
   "id": "dc4e49b3-9c19-4bb9-8e17-3baefb6f2edc",
   "metadata": {},
   "outputs": [],
   "source": []
  },
  {
   "cell_type": "code",
   "execution_count": 4,
   "id": "a5387704-2105-46b7-b63d-d25b700919e3",
   "metadata": {},
   "outputs": [
    {
     "data": {
      "text/plain": [
       "(4+0j)"
      ]
     },
     "execution_count": 4,
     "metadata": {},
     "output_type": "execute_result"
    }
   ],
   "source": [
    "\n",
    "''' a complex number with real part re , imaginary part im. im \n",
    "defaults to zero '''\n",
    "complex(4)"
   ]
  },
  {
   "cell_type": "code",
   "execution_count": 14,
   "id": "ac9a1fb3-74f8-4f4b-ae52-5932929c31d5",
   "metadata": {},
   "outputs": [
    {
     "name": "stdout",
     "output_type": "stream",
     "text": [
      "4.0\n",
      "6\n"
     ]
    }
   ],
   "source": [
    "# absolute value or magnitude of x\n",
    "print(abs(8.586855646//2))\n",
    "print(abs(-6))"
   ]
  },
  {
   "cell_type": "code",
   "execution_count": 19,
   "id": "d5973fe1-7a3c-432a-989e-e03760c71466",
   "metadata": {},
   "outputs": [
    {
     "name": "stdout",
     "output_type": "stream",
     "text": [
      "(89-6j)\n"
     ]
    }
   ],
   "source": [
    "# conjugate of complex number \n",
    "c = 89+6j\n",
    "print(c.conjugate())"
   ]
  },
  {
   "cell_type": "code",
   "execution_count": 22,
   "id": "ec24d912-0659-46c8-bb47-5fddbdbf8173",
   "metadata": {},
   "outputs": [
    {
     "name": "stdout",
     "output_type": "stream",
     "text": [
      "(2, 0)\n"
     ]
    }
   ],
   "source": [
    "# divison and modulous (x//y,x%y)\n",
    "print(divmod(8,4))"
   ]
  },
  {
   "cell_type": "code",
   "execution_count": 24,
   "id": "ee661df9-403f-4791-862e-856a41f90c5b",
   "metadata": {},
   "outputs": [
    {
     "name": "stdout",
     "output_type": "stream",
     "text": [
      "16\n"
     ]
    }
   ],
   "source": [
    "# power of a number format (x,y) --> (x**y)\n",
    "print(pow(4,2))"
   ]
  },
  {
   "cell_type": "code",
   "execution_count": 72,
   "id": "2e32b8cb-e52c-4430-a646-bbe5699643c5",
   "metadata": {},
   "outputs": [
    {
     "name": "stdout",
     "output_type": "stream",
     "text": [
      "4\n"
     ]
    }
   ],
   "source": [
    "import math\n",
    "# conversion float to int , discarding the fractional part\n",
    "# the greatest integral <= x\n",
    "print(math.floor(4.20))"
   ]
  },
  {
   "cell_type": "code",
   "execution_count": 73,
   "id": "a5d2565a-113b-49f4-a26f-499ee8c1ee24",
   "metadata": {},
   "outputs": [
    {
     "name": "stdout",
     "output_type": "stream",
     "text": [
      "5\n"
     ]
    }
   ],
   "source": [
    "print(math.ceil(4.10)) # alternative conversion to floor"
   ]
  },
  {
   "cell_type": "code",
   "execution_count": 74,
   "id": "8f873d62-d551-4045-905b-e962b415f106",
   "metadata": {},
   "outputs": [
    {
     "data": {
      "text/plain": [
       "20"
      ]
     },
     "execution_count": 74,
     "metadata": {},
     "output_type": "execute_result"
    }
   ],
   "source": [
    "# x value truncated to Integral\n",
    "math.trunc(20.89) "
   ]
  },
  {
   "cell_type": "code",
   "execution_count": 75,
   "id": "14f755c5-5278-4d29-bf77-073d3723ebf2",
   "metadata": {},
   "outputs": [
    {
     "data": {
      "text/plain": [
       "487.87"
      ]
     },
     "execution_count": 75,
     "metadata": {},
     "output_type": "execute_result"
    }
   ],
   "source": [
    "# round the float value default converted to int other wise given ndigits \n",
    "#changed \n",
    "# round (number , ndigits=None)\n",
    "round(487.870,2)"
   ]
  },
  {
   "cell_type": "code",
   "execution_count": 79,
   "id": "627e3eab-d8ac-42c0-a842-79eacf9b25ff",
   "metadata": {},
   "outputs": [
    {
     "name": "stdout",
     "output_type": "stream",
     "text": [
      "87\n"
     ]
    }
   ],
   "source": [
    "# the least intefral >= x\n",
    "print(math.ceil(86.766))"
   ]
  },
  {
   "cell_type": "markdown",
   "id": "97c39cb0-9652-4bbb-9ff8-45fac1a1edd2",
   "metadata": {},
   "source": []
  },
  {
   "cell_type": "code",
   "execution_count": 81,
   "id": "e794bffa-ea02-46e8-ba92-f7132ac69f78",
   "metadata": {},
   "outputs": [
    {
     "name": "stdout",
     "output_type": "stream",
     "text": [
      "121\n",
      "97\n",
      "24\n",
      "34662321099990647697175478272\n",
      "0\n"
     ]
    }
   ],
   "source": [
    "x = 56\n",
    "y = 89\n",
    "print(x | y) # bitwise or of x and y\n",
    "print(x^y) # bitwise exclusive or of x and y\n",
    "print(x&y) # bitwise and of x and y\n",
    "print(x<<y) # x shifted left by n bits\n",
    "print(x>>y) # x shifted right by n bits"
   ]
  },
  {
   "cell_type": "code",
   "execution_count": 90,
   "id": "a3fc0835-90a1-45f6-8bb6-75c109434071",
   "metadata": {},
   "outputs": [
    {
     "name": "stdout",
     "output_type": "stream",
     "text": [
      "0b1010\n",
      "0xa\n",
      "4\n"
     ]
    }
   ],
   "source": [
    "n = 10\n",
    "print(bin(n)) # converted into binary \n",
    "print(hex(n)) # converted into hexadecimal\n",
    "print(n.bit_length()) # shows bit length beside first 0b "
   ]
  },
  {
   "cell_type": "code",
   "execution_count": 94,
   "id": "3354682d-5839-41cd-a373-6a777807240d",
   "metadata": {},
   "outputs": [
    {
     "name": "stdout",
     "output_type": "stream",
     "text": [
      "4\n"
     ]
    }
   ],
   "source": [
    "def bit_length(se):\n",
    "    s = bin(se)\n",
    "    s = s.lstrip('0b') # removing leading zeros\n",
    "    return len(s)\n",
    "am = bit_length(10)\n",
    "print(am)"
   ]
  },
  {
   "cell_type": "code",
   "execution_count": 96,
   "id": "4b71fa0b-4d28-4395-83c7-e539f588e7a7",
   "metadata": {},
   "outputs": [
    {
     "name": "stdout",
     "output_type": "stream",
     "text": [
      "2\n"
     ]
    }
   ],
   "source": [
    "print((-n).bit_count())"
   ]
  },
  {
   "cell_type": "code",
   "execution_count": null,
   "id": "cd77bbfe-3bc0-418d-b989-58d26ef0ba89",
   "metadata": {},
   "outputs": [],
   "source": []
  },
  {
   "cell_type": "code",
   "execution_count": null,
   "id": "bd9223db-4bc5-49d0-ae4d-847aecc7692b",
   "metadata": {},
   "outputs": [],
   "source": []
  }
 ],
 "metadata": {
  "kernelspec": {
   "display_name": "Python 3 (ipykernel)",
   "language": "python",
   "name": "python3"
  },
  "language_info": {
   "codemirror_mode": {
    "name": "ipython",
    "version": 3
   },
   "file_extension": ".py",
   "mimetype": "text/x-python",
   "name": "python",
   "nbconvert_exporter": "python",
   "pygments_lexer": "ipython3",
   "version": "3.12.1"
  }
 },
 "nbformat": 4,
 "nbformat_minor": 5
}

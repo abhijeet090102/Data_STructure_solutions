{
 "cells": [
  {
   "cell_type": "markdown",
   "id": "51ab1e13-5333-4e89-90d5-ba8285ffd70d",
   "metadata": {},
   "source": [
    "# Polynomial Representation"
   ]
  },
  {
   "cell_type": "code",
   "execution_count": 47,
   "id": "477e85d8-98f4-4aa3-be8f-527b41b01370",
   "metadata": {},
   "outputs": [],
   "source": [
    "class node:\n",
    "    def __init__(self,co,ex):\n",
    "        self.coef = co\n",
    "        self.expo = ex\n",
    "        self.next = None\n",
    "class Polynomial :\n",
    "    def __init__(self):\n",
    "        self.start = None\n",
    "    def AddTerm(self,c,e):\n",
    "        if c== 0:\n",
    "            return\n",
    "        temp = self.start\n",
    "        prev = None\n",
    "        while temp != None and e < temp.expo:\n",
    "            prev = temp\n",
    "            temp = temp.next\n",
    "        if temp != None and e == temp.expo:\n",
    "            temp.coef += c\n",
    "            return\n",
    "        if prev == None:\n",
    "            n = node(c,e)\n",
    "            n.next = self.start\n",
    "            self.start = n\n",
    "            return\n",
    "        else:\n",
    "            n = node(c,e)\n",
    "            prev.next = n\n",
    "            n.next = temp\n",
    "        #return self.start\n",
    "    def travarse(self):\n",
    "        temp = self.start\n",
    "        while temp!= None:\n",
    "            print(f\"{temp.coef}^{temp.expo}\")\n",
    "            temp = temp.next\n",
    "class AddTwoPolyno:\n",
    "    def __init__(self):\n",
    "        self.pol3 = None\n",
    "    def AddTwoPoly(self,pl1,pl2):\n",
    "        pl3 = Polynomial()\n",
    "        tem1 = pl1.start\n",
    "        tem2 = pl2.start\n",
    "        while tem1 != None and tem2 != None:\n",
    "            if tem1.expo > tem2.expo:\n",
    "                pl3.AddTerm(tem1.coef,tem1.expo)\n",
    "                tem1 = tem1.next\n",
    "            elif tem1.expo < tem2.expo:\n",
    "                pl3.AddTerm(tem2.coef,tem2.expo)\n",
    "                tem2 = tem2.next\n",
    "            else:\n",
    "                pl3.AddTerm(tem1.coef + tem2.coef,tem1.expo)\n",
    "                tem1 = tem1.next\n",
    "                tem2 = tem2.next\n",
    "        while tem1 != None:\n",
    "            pl3.AddTerm(tem1.coeff,tem1.expo)\n",
    "            tem1 = tem1.next\n",
    "        while tem2 != None:\n",
    "            pl3.AddTerm(tem2.coeff,tem2.expo)\n",
    "            tem2 = tem2.next\n",
    "        pl3.travarse()"
   ]
  },
  {
   "cell_type": "code",
   "execution_count": 48,
   "id": "9279bee3-6dad-4792-8508-0c2cb7a8043e",
   "metadata": {},
   "outputs": [
    {
     "name": "stdout",
     "output_type": "stream",
     "text": [
      "first pl1 \n",
      "1^3\n",
      "-4^2\n",
      "second pl2 \n",
      "2^5\n",
      "5^2\n",
      "after Adding\n",
      "2^5\n",
      "1^3\n",
      "1^2\n"
     ]
    }
   ],
   "source": [
    "Pl = Polynomial()\n",
    "Pl.AddTerm(1 , 3)\n",
    "Pl.AddTerm(-4 , 2)\n",
    "print('first pl1 ')\n",
    "Pl.travarse()\n",
    "pl2 = Polynomial()\n",
    "pl2.AddTerm(2,5)\n",
    "pl2.AddTerm(5,2)\n",
    "print('second pl2 ')\n",
    "pl2.travarse()\n",
    "pl= AddTwoPolyno()\n",
    "print('after Adding')\n",
    "pl.AddTwoPoly(Pl,pl2)"
   ]
  },
  {
   "cell_type": "code",
   "execution_count": null,
   "id": "0b92b419-16c9-4724-a8b0-18af421df245",
   "metadata": {},
   "outputs": [],
   "source": []
  },
  {
   "cell_type": "code",
   "execution_count": null,
   "id": "0405523d-9561-4eff-8747-babdc0cff505",
   "metadata": {},
   "outputs": [],
   "source": []
  }
 ],
 "metadata": {
  "kernelspec": {
   "display_name": "Python 3 (ipykernel)",
   "language": "python",
   "name": "python3"
  },
  "language_info": {
   "codemirror_mode": {
    "name": "ipython",
    "version": 3
   },
   "file_extension": ".py",
   "mimetype": "text/x-python",
   "name": "python",
   "nbconvert_exporter": "python",
   "pygments_lexer": "ipython3",
   "version": "3.12.1"
  }
 },
 "nbformat": 4,
 "nbformat_minor": 5
}

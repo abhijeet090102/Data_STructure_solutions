{
 "cells": [
  {
   "cell_type": "markdown",
   "id": "62c156d2-7d29-454f-afae-a0f1f38ce4d8",
   "metadata": {},
   "source": [
    "# Reverse Linked List"
   ]
  },
  {
   "cell_type": "code",
   "execution_count": 10,
   "id": "e07b4d44-02bd-44c9-be8c-b5a18259ac27",
   "metadata": {},
   "outputs": [],
   "source": [
    "class Node :\n",
    "    def __init__ (self,v):\n",
    "        self.info = v\n",
    "        self.link = None\n",
    "class Reverse:\n",
    "    def __init__(self):\n",
    "        self.start = None\n",
    "    def linkedList(self,v):\n",
    "        n = Node(v)\n",
    "        if self.start == None:\n",
    "            self.start = n\n",
    "        else:\n",
    "            temp = self.start\n",
    "            while temp.link != None:\n",
    "                temp = temp.link\n",
    "            temp.link = n\n",
    "    def ReverseLinkedList(self):\n",
    "        prev = self.start\n",
    "        curr = prev.link\n",
    "        nexts = curr.link\n",
    "        print(prev.info ,\" \" , curr.info,' ' , nexts.info)\n",
    "        while curr.link != None:\n",
    "            curr.link = prev\n",
    "            prev = curr\n",
    "            curr = nexts\n",
    "            nexts = nexts.link\n",
    "        self.start.link = None\n",
    "        curr.link = prev\n",
    "        self.start = curr\n",
    "        print(self.start)\n",
    "    def travarse(self):\n",
    "        temp = self.start\n",
    "        while temp != None:\n",
    "            print(temp.info)\n",
    "            temp = temp.link"
   ]
  },
  {
   "cell_type": "code",
   "execution_count": 11,
   "id": "091d039e-3015-413b-81c3-c39538086bec",
   "metadata": {},
   "outputs": [
    {
     "name": "stdout",
     "output_type": "stream",
     "text": [
      "10   20   30\n",
      "<__main__.Node object at 0x000001AE5EA48620>\n",
      "36\n",
      "32\n",
      "30\n",
      "20\n",
      "10\n"
     ]
    }
   ],
   "source": [
    "re = Reverse()\n",
    "re.linkedList(10)\n",
    "re.linkedList(20)\n",
    "re.linkedList(30)\n",
    "re.linkedList(32)\n",
    "re.linkedList(36)\n",
    "re.ReverseLinkedList()\n",
    "re.travarse()"
   ]
  },
  {
   "cell_type": "code",
   "execution_count": null,
   "id": "7aa6d854-4ad2-43c1-92f8-a5db9a6c7d2a",
   "metadata": {},
   "outputs": [],
   "source": []
  }
 ],
 "metadata": {
  "kernelspec": {
   "display_name": "Python 3 (ipykernel)",
   "language": "python",
   "name": "python3"
  },
  "language_info": {
   "codemirror_mode": {
    "name": "ipython",
    "version": 3
   },
   "file_extension": ".py",
   "mimetype": "text/x-python",
   "name": "python",
   "nbconvert_exporter": "python",
   "pygments_lexer": "ipython3",
   "version": "3.12.1"
  }
 },
 "nbformat": 4,
 "nbformat_minor": 5
}

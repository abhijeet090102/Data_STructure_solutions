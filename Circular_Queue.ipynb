{
 "cells": [
  {
   "cell_type": "markdown",
   "id": "bc4ceb4b-e45b-4c14-8088-14f2b01af810",
   "metadata": {},
   "source": [
    "# Circular queue"
   ]
  },
  {
   "cell_type": "code",
   "execution_count": 1,
   "id": "bc83f634-8251-4808-bcb4-105b746a6f79",
   "metadata": {},
   "outputs": [],
   "source": [
    "class Queue:\n",
    "    def __init__(self,s):\n",
    "        self.queue = [0 for i in range(s)] \n",
    "        self.front = -1\n",
    "        self.rear = -1\n",
    "        self.size=s\n",
    "    def insert(self,i): # inserting element can be happend from rear of queue\n",
    "        self.item = i\n",
    "        if self.front == (self.rear + 1) % self.size: \n",
    "    # When insert all element is occupied all the queue size mean front and rear point same element than its full\n",
    "            print(\"Queue is full \")\n",
    "            return \n",
    "        self.rear = (self.rear+1) % self.size \n",
    "# if first queue is empty than rear is is point to its next position mod size of the queue \n",
    "        \n",
    "    # queue pointed rear position will replace to item passed by the user\n",
    "        self.queue[self.rear] = self.item\n",
    "        \n",
    "        if self.front == -1 : # if queue's front is -1 index than its change to 0 after inserting first element\n",
    "            self.front = 0\n",
    "    def deletion (self): # deletion can be happend from front \n",
    "# if both front and rear is -1 mean queue is empty\n",
    "        if self.front == -1 and self.rear == -1:\n",
    "            print(\"Queue is empty \")\n",
    "            return -1\n",
    "    # storing a item into a variable from queue's front position \n",
    "        self.item = self.queue[self.front]\n",
    "    # if front and rear both will point same position than both will change to -1 position\n",
    "        if self.front == self.rear :\n",
    "            self.front ,self.rear = -1,-1\n",
    "    # if not than front will point to front's next position mod size of queue \n",
    "        # basically mod value used for circular queue\n",
    "        else:\n",
    "            self.queue[self.front] = 0\n",
    "            self.front = (self.front +1) % self.size\n",
    "        return self.item\n",
    "    def display(self):\n",
    "        self.temp = self.queue\n",
    "        for i in range(self.size):\n",
    "            if self.temp[i] != 0:\n",
    "                print(self.temp[i])\n",
    "            "
   ]
  },
  {
   "cell_type": "code",
   "execution_count": 5,
   "id": "431473c1-95d0-4a82-b397-8004e95daacb",
   "metadata": {},
   "outputs": [
    {
     "name": "stdout",
     "output_type": "stream",
     "text": [
      "80\n",
      "20 \n",
      "\n",
      "40\n",
      "60\n",
      "10\n",
      "22\n"
     ]
    }
   ],
   "source": [
    "qu = Queue(6)\n",
    "qu.insert(80)\n",
    "qu.insert(20)\n",
    "qu.insert(40)\n",
    "qu.insert(60)\n",
    "qu.insert(10)\n",
    "qu.insert(22)\n",
    "print(qu.deletion())\n",
    "print(qu.deletion(),'\\n')\n",
    "\n",
    "qu.display()"
   ]
  },
  {
   "cell_type": "code",
   "execution_count": null,
   "id": "a8aa9973-871f-462e-8bed-31aee2fc4d8e",
   "metadata": {},
   "outputs": [],
   "source": []
  }
 ],
 "metadata": {
  "kernelspec": {
   "display_name": "Python 3 (ipykernel)",
   "language": "python",
   "name": "python3"
  },
  "language_info": {
   "codemirror_mode": {
    "name": "ipython",
    "version": 3
   },
   "file_extension": ".py",
   "mimetype": "text/x-python",
   "name": "python",
   "nbconvert_exporter": "python",
   "pygments_lexer": "ipython3",
   "version": "3.12.1"
  }
 },
 "nbformat": 4,
 "nbformat_minor": 5
}

{
 "cells": [
  {
   "cell_type": "markdown",
   "id": "a6888c28-e8c5-48ae-bf87-7db4e2a86021",
   "metadata": {},
   "source": [
    "# DFs"
   ]
  },
  {
   "cell_type": "code",
   "execution_count": 5,
   "id": "646e2903-6552-42b4-95f0-e90a2f07f998",
   "metadata": {},
   "outputs": [],
   "source": [
    "class STack:\n",
    "    def __init__(self,v,e):\n",
    "        self.vert = v\n",
    "        self.mat =[[0 for i in range(v)] for i in range(v)]\n",
    "        self.edge = e\n",
    "        for i in range(self.edge):\n",
    "            st = int(input(\"Enter the start vertex \"))\n",
    "            en= int(input(\"Enter the end vertex \"))\n",
    "            self.mat[st][en]=1\n",
    "            self.mat[en][st] =1\n",
    "        self.process = [1 for i in range(len(self.mat))]\n",
    "    def travarse(self):\n",
    "        print(self.mat)\n",
    "    def stack (self):\n",
    "        self.stack = [ self.mat[0]]\n",
    "        self.process[0] = 2\n",
    "        self.visit = [0]\n",
    "        while self.stack != []:\n",
    "            for i in range(len(self.mat)):\n",
    "                self.stack.pop(0)\n",
    "                self.process[i] = 3\n",
    "                for j in range(len(self.mat)):\n",
    "                    if self.mat[i][j] == 1 and j not in self.visit:\n",
    "                        self.stack.insert(0,self.mat[j])\n",
    "                        self.visit.append(j)\n",
    "                        self.process[j] = 2\n",
    "                        print(self.stack)\n",
    "        print(self.process)\n",
    "        print(self.visit)\n",
    "                        #print(f'{j} iteration done ')\n",
    "                        "
   ]
  },
  {
   "cell_type": "code",
   "execution_count": 6,
   "id": "9b5952ad-e295-47fe-9e67-25dbaaa327e0",
   "metadata": {},
   "outputs": [
    {
     "name": "stdin",
     "output_type": "stream",
     "text": [
      "Enter the start vertex  0\n",
      "Enter the end vertex  1\n",
      "Enter the start vertex  0\n",
      "Enter the end vertex  2\n",
      "Enter the start vertex  0\n",
      "Enter the end vertex  3\n",
      "Enter the start vertex  1\n",
      "Enter the end vertex  0\n",
      "Enter the start vertex  1\n",
      "Enter the end vertex  3\n",
      "Enter the start vertex  1\n",
      "Enter the end vertex  4\n"
     ]
    },
    {
     "name": "stdout",
     "output_type": "stream",
     "text": [
      "[[1, 0, 0, 1, 1]]\n",
      "[[1, 0, 0, 0, 0], [1, 0, 0, 1, 1]]\n",
      "[[1, 1, 0, 0, 0], [1, 0, 0, 0, 0], [1, 0, 0, 1, 1]]\n",
      "[[0, 1, 0, 0, 0], [1, 0, 0, 0, 0], [1, 0, 0, 1, 1]]\n",
      "[3, 3, 3, 3, 3]\n",
      "[0, 1, 2, 3, 4]\n"
     ]
    }
   ],
   "source": [
    "st = STack(5,6)\n",
    "st.stack()"
   ]
  },
  {
   "cell_type": "code",
   "execution_count": null,
   "id": "5f124925-9a51-4a14-8e18-727cbee65b9a",
   "metadata": {},
   "outputs": [],
   "source": []
  }
 ],
 "metadata": {
  "kernelspec": {
   "display_name": "Python 3 (ipykernel)",
   "language": "python",
   "name": "python3"
  },
  "language_info": {
   "codemirror_mode": {
    "name": "ipython",
    "version": 3
   },
   "file_extension": ".py",
   "mimetype": "text/x-python",
   "name": "python",
   "nbconvert_exporter": "python",
   "pygments_lexer": "ipython3",
   "version": "3.12.1"
  }
 },
 "nbformat": 4,
 "nbformat_minor": 5
}

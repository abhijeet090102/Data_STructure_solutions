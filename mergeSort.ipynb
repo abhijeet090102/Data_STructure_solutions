{
 "cells": [
  {
   "cell_type": "markdown",
   "id": "00495392-c228-4860-933d-554bcb1515bf",
   "metadata": {},
   "source": [
    "# merge sort"
   ]
  },
  {
   "cell_type": "code",
   "execution_count": 7,
   "id": "355697c9-fb46-4d5c-9316-4fd4c37479da",
   "metadata": {},
   "outputs": [],
   "source": [
    "class mergeSort:\n",
    "    def __init__(self,arr):\n",
    "        self.arr = arr\n",
    "        self.c = [ 0 for i in range(len(arr))]\n",
    "    def merge(self,lb,ma,ub):\n",
    "        i = lb\n",
    "        j = ma + 1\n",
    "        k = 0\n",
    "        while i <= ma and j<= ub:\n",
    "            if self.arr[i] <= self.arr[j]:\n",
    "                self.c[k] = self.arr[i]\n",
    "                i += 1\n",
    "                k += 1\n",
    "            elif self.arr[j] < self.arr[i]:\n",
    "                self.c[k] = self.arr[j]\n",
    "                j += 1\n",
    "                k += 1\n",
    "        while i <= ma:\n",
    "            self.c[k] = self.arr[i]\n",
    "            k += 1\n",
    "            i += 1\n",
    "        while j <= ub:\n",
    "            self.c[k] = self.arr[j]\n",
    "            k += 1\n",
    "            j += 1\n",
    "        k = 0\n",
    "        i = lb\n",
    "        while i <= ub:\n",
    "            self.arr[i] = self.c[k]\n",
    "            i += 1\n",
    "            k += 1\n",
    "    def mergesort(self,lb,ub):\n",
    "        if lb < ub:\n",
    "            mad = (lb+ ub)//2\n",
    "            self.mergesort(lb,mad)\n",
    "            self.mergesort(mad + 1 , ub)\n",
    "            self.merge(lb,mad,ub)\n",
    "    def display(self):\n",
    "        print(self.arr)\n"
   ]
  },
  {
   "cell_type": "code",
   "execution_count": 8,
   "id": "2955803d-815d-4c59-baa1-68448930290b",
   "metadata": {},
   "outputs": [
    {
     "name": "stdout",
     "output_type": "stream",
     "text": [
      "[4, 10, 11, 12, 14, 20, 35, 39, 40, 60]\n"
     ]
    }
   ],
   "source": [
    "l = [20,12,39,14,10,4,11,40,60,35]\n",
    "ob = mergeSort(l)\n",
    "ob.mergesort(0,len(l)-1)\n",
    "ob.display()"
   ]
  }
 ],
 "metadata": {
  "kernelspec": {
   "display_name": "Python 3 (ipykernel)",
   "language": "python",
   "name": "python3"
  },
  "language_info": {
   "codemirror_mode": {
    "name": "ipython",
    "version": 3
   },
   "file_extension": ".py",
   "mimetype": "text/x-python",
   "name": "python",
   "nbconvert_exporter": "python",
   "pygments_lexer": "ipython3",
   "version": "3.12.1"
  }
 },
 "nbformat": 4,
 "nbformat_minor": 5
}

{
 "cells": [
  {
   "cell_type": "markdown",
   "id": "46a90fe1-93e0-4404-8de9-4cc6eaad7c57",
   "metadata": {},
   "source": [
    "# BFS"
   ]
  },
  {
   "cell_type": "code",
   "execution_count": 1,
   "id": "80d90198-fd3b-4ac5-9b43-c1445e490cba",
   "metadata": {},
   "outputs": [],
   "source": [
    "class BFS:\n",
    "    def __init__(self):\n",
    "        self.adj_mat = [[0, 1, 1, 1, 0], \n",
    "                        [1, 0, 0, 1, 1], \n",
    "                        [1, 0, 0, 1, 0], \n",
    "                        [1, 1, 1, 0, 1], \n",
    "                        [0, 1, 0, 1, 0]]\n",
    "        self.stat = [ 1 for i in range(len(self.adj_mat))]\n",
    "    def Queue(self,start):\n",
    "        \n",
    "        self.queue = [self.adj_mat[0]]\n",
    "        self.stat[0] = 2\n",
    "        self.visit = [0]\n",
    "        while self.queue != []:\n",
    "            for j in range(len(self.adj_mat)):\n",
    "                self.queue.pop(0)\n",
    "                self.stat[j] = 3\n",
    "                for i in range(len(self.adj_mat)):   \n",
    "                    if self.adj_mat[j][i] == 1 and i not in self.visit  : \n",
    "                        self.queue.append(self.adj_mat[i])\n",
    "                        print(self.queue)\n",
    "                        self.visit.append(i)\n",
    "                        self.stat[i] = 2 \n",
    "        print(self.stat)\n",
    "        print(self.queue)\n",
    "        print(self.visit)"
   ]
  },
  {
   "cell_type": "code",
   "execution_count": 2,
   "id": "fafb6d58-6188-4a3f-897b-f70925d17818",
   "metadata": {},
   "outputs": [
    {
     "name": "stdout",
     "output_type": "stream",
     "text": [
      "[[1, 0, 0, 1, 1]]\n",
      "[[1, 0, 0, 1, 1], [1, 0, 0, 1, 0]]\n",
      "[[1, 0, 0, 1, 1], [1, 0, 0, 1, 0], [1, 1, 1, 0, 1]]\n",
      "[[1, 0, 0, 1, 0], [1, 1, 1, 0, 1], [0, 1, 0, 1, 0]]\n",
      "[3, 3, 3, 3, 3]\n",
      "[]\n",
      "[0, 1, 2, 3, 4]\n"
     ]
    }
   ],
   "source": [
    "Bfs = BFS()\n",
    "Bfs.Queue(0)"
   ]
  },
  {
   "cell_type": "code",
   "execution_count": null,
   "id": "3b61ed92-a442-4d63-95c8-832114d1c030",
   "metadata": {},
   "outputs": [],
   "source": []
  }
 ],
 "metadata": {
  "kernelspec": {
   "display_name": "Python 3 (ipykernel)",
   "language": "python",
   "name": "python3"
  },
  "language_info": {
   "codemirror_mode": {
    "name": "ipython",
    "version": 3
   },
   "file_extension": ".py",
   "mimetype": "text/x-python",
   "name": "python",
   "nbconvert_exporter": "python",
   "pygments_lexer": "ipython3",
   "version": "3.12.1"
  }
 },
 "nbformat": 4,
 "nbformat_minor": 5
}

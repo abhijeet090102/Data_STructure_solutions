{
 "cells": [
  {
   "cell_type": "markdown",
   "id": "8fe6e53a-30d6-49e4-aac6-dacab7c23b44",
   "metadata": {},
   "source": [
    "# GRAPH "
   ]
  },
  {
   "cell_type": "code",
   "execution_count": 1,
   "id": "994330ac-1ba1-47cd-9918-3107c28e0e77",
   "metadata": {},
   "outputs": [
    {
     "ename": "SyntaxError",
     "evalue": "incomplete input (829563852.py, line 28)",
     "output_type": "error",
     "traceback": [
      "\u001b[1;36m  Cell \u001b[1;32mIn[1], line 28\u001b[1;36m\u001b[0m\n\u001b[1;33m    class GraphRepresentation:\u001b[0m\n\u001b[1;37m                              ^\u001b[0m\n\u001b[1;31mSyntaxError\u001b[0m\u001b[1;31m:\u001b[0m incomplete input\n"
     ]
    }
   ],
   "source": [
    "class AdjMatrix:\n",
    "    def __init__(self,v,e):\n",
    "        self.vert = v\n",
    "        self.mat =[[0 for i in range(v)] for i in range(v)]\n",
    "        self.edge = e\n",
    "        for i in range(self.edge):\n",
    "            st = int(input(\"Enter the start vertex \"))\n",
    "            en= int(input(\"Enter the end vertex \"))\n",
    "            self.mat[st][en]=1\n",
    "            self.mat[en][st] =1\n",
    "    def travarse(self):\n",
    "        print(self.mat)\n",
    "    def degree (self):\n",
    "        for i in range(self.vert):\n",
    "            count = 0\n",
    "            for j in range(self.vert):\n",
    "                count += self.mat[i][j] \n",
    "            print(f'degree of vertices {i} is ',count)\n",
    "class NodeList:\n",
    "    def __init__(self):\n",
    "        self.node = None\n",
    "        self.next = None\n",
    "        self.adj = Nonef\n",
    "class EdgeList:\n",
    "    def __init__(self):\n",
    "        self.dest = None\n",
    "        self.link = None\n",
    "class Graph:\n",
    "    def __init__(self):\n",
    "        self.start = None\n",
    "    def graphRE(self,v):\n",
    "        n = NodeList(v)\n",
    "        if self.start == None:\n",
    "            self.start = n\n",
    "        else:\n",
    "            temp = self.start\n",
    "            while temp.next is not None and temp.link is not None:\n",
    "                "
   ]
  },
  {
   "cell_type": "code",
   "execution_count": null,
   "id": "2b6a9d1c-a496-4aae-930d-29b99fbf4da5",
   "metadata": {},
   "outputs": [],
   "source": []
  }
 ],
 "metadata": {
  "kernelspec": {
   "display_name": "Python 3 (ipykernel)",
   "language": "python",
   "name": "python3"
  },
  "language_info": {
   "codemirror_mode": {
    "name": "ipython",
    "version": 3
   },
   "file_extension": ".py",
   "mimetype": "text/x-python",
   "name": "python",
   "nbconvert_exporter": "python",
   "pygments_lexer": "ipython3",
   "version": "3.12.1"
  }
 },
 "nbformat": 4,
 "nbformat_minor": 5
}

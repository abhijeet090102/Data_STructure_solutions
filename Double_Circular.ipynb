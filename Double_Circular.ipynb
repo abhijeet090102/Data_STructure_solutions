{
 "cells": [
  {
   "cell_type": "markdown",
   "id": "e7412cee-0d24-4bfd-8833-722bf54a94ea",
   "metadata": {
    "editable": true,
    "slideshow": {
     "slide_type": ""
    },
    "tags": []
   },
   "source": [
    "# Double Circular Linked List"
   ]
  },
  {
   "cell_type": "code",
   "execution_count": 1,
   "id": "c3fe244d-fcfc-421b-857c-10d456ccd683",
   "metadata": {
    "editable": true,
    "slideshow": {
     "slide_type": ""
    },
    "tags": []
   },
   "outputs": [],
   "source": [
    "class node:\n",
    "    def __init__(self,v):\n",
    "        self.prev = None\n",
    "        self.info = v\n",
    "        self.next = None\n",
    "class DLinkedList:\n",
    "    def __init__(self):\n",
    "        self.start = None\n",
    "    def InsertAtLast(self,v):\n",
    "        n = node(v)\n",
    "        if self.start == None:\n",
    "            self.start = n\n",
    "            n.next = self.start\n",
    "            n.prev = self.start\n",
    "        else:\n",
    "            temp = self.start\n",
    "            while temp.next != self.start :\n",
    "                temp = temp.next\n",
    "            temp.next = n\n",
    "            n.prev = temp.prev\n",
    "            n.next = self.start\n",
    "            self.start.prev = n\n",
    "    def travarse(self):\n",
    "        temp = self.start\n",
    "        while temp.next != self.start:\n",
    "            print(temp.info)\n",
    "            temp = temp.next\n",
    "        print(temp.info)\n",
    "    def insertAtBeg(self,v):\n",
    "        n = node(v)\n",
    "        temp = self.start.prev\n",
    "        temp.next = n\n",
    "        n.prev = temp\n",
    "        n.next = self.start\n",
    "        self.start.prev = n\n",
    "        self.start = n\n",
    "    def deleteatspecificitem(self,item):\n",
    "        temp = self.start\n",
    "        while temp.info != item :\n",
    "            previ = temp\n",
    "            temp = temp.next\n",
    "        previ.next = temp.next\n",
    "        var = temp\n",
    "        temp = temp.next\n",
    "        temp.prev = previ\n",
    "        del var"
   ]
  },
  {
   "cell_type": "code",
   "execution_count": 3,
   "id": "eb3f6962-c0a0-4868-a807-559ca8cb844f",
   "metadata": {},
   "outputs": [
    {
     "name": "stdout",
     "output_type": "stream",
     "text": [
      "8\n",
      "66\n",
      "After inserting at beg\n",
      "14\n",
      "10\n",
      "8\n",
      "66\n",
      "After deletion specific item \n",
      "14\n",
      "8\n",
      "66\n"
     ]
    }
   ],
   "source": [
    "Dl = DLinkedList()\n",
    "Dl.InsertAtLast(8)\n",
    "Dl.InsertAtLast(66)\n",
    "Dl.travarse()\n",
    "print(\"After inserting at beg\")\n",
    "Dl.insertAtBeg(10)\n",
    "Dl.insertAtBeg(14)\n",
    "Dl.travarse()\n",
    "Dl.deleteatspecificitem(10)\n",
    "print(\"After deletion specific item \")\n",
    "Dl.travarse()"
   ]
  },
  {
   "cell_type": "code",
   "execution_count": null,
   "id": "a6ebbd9e-24a9-4015-b1fb-b638f36a6958",
   "metadata": {},
   "outputs": [],
   "source": []
  }
 ],
 "metadata": {
  "kernelspec": {
   "display_name": "Python 3 (ipykernel)",
   "language": "python",
   "name": "python3"
  },
  "language_info": {
   "codemirror_mode": {
    "name": "ipython",
    "version": 3
   },
   "file_extension": ".py",
   "mimetype": "text/x-python",
   "name": "python",
   "nbconvert_exporter": "python",
   "pygments_lexer": "ipython3",
   "version": "3.12.1"
  }
 },
 "nbformat": 4,
 "nbformat_minor": 5
}

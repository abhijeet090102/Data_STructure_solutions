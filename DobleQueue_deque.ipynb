{
 "cells": [
  {
   "cell_type": "code",
   "execution_count": 3,
   "id": "e97781df-6c13-4d61-af19-43f5c58e4004",
   "metadata": {},
   "outputs": [],
   "source": [
    "from collections import deque"
   ]
  },
  {
   "cell_type": "code",
   "execution_count": 6,
   "id": "fa8fa9fe-a999-41d9-84f2-fbf3eee12b6f",
   "metadata": {},
   "outputs": [],
   "source": [
    "class Doubleque:\n",
    "    def __init__(self,s):\n",
    "        self.dq = deque([])\n",
    "        self.front = -1\n",
    "        self.rear = -1\n",
    "        self.size = s\n",
    "    def insert (self,v):\n",
    "        if self.front == (self.rear +1 )% self.size:\n",
    "            print(\"Queue is full \")\n",
    "            return\n",
    "        self.rear = (self.rear +1)% self.size\n",
    "        self.dq.appendleft(v)\n",
    "        if self.front == -1:\n",
    "            self.front = 0\n",
    "    def deletion(self):\n",
    "        if self.front == -1 and self.rear == -1:\n",
    "            print(\"Queue is empty \")\n",
    "            return -1\n",
    "        item = self.dq.pop()\n",
    "        if self.front == self.rear :\n",
    "            self.front , self.rear = -1,-1\n",
    "        else:\n",
    "            self.front = (self.front + 1) % self.size\n",
    "    def display(self):\n",
    "        temp = self.dq\n",
    "        for i in range(len(self.dq)):\n",
    "            print(self.dq[i])"
   ]
  },
  {
   "cell_type": "code",
   "execution_count": 8,
   "id": "bc2dfb6f-5f72-4ef8-9b7a-02ec8c212f6a",
   "metadata": {},
   "outputs": [
    {
     "name": "stdout",
     "output_type": "stream",
     "text": [
      "40\n",
      "20\n"
     ]
    }
   ],
   "source": [
    "deq = Doubleque(6)\n",
    "deq.insert(20)\n",
    "deq.insert(40)\n",
    "deq.display()"
   ]
  },
  {
   "cell_type": "code",
   "execution_count": null,
   "id": "c96cf164-994c-4f38-890c-59e11c72b547",
   "metadata": {},
   "outputs": [],
   "source": []
  }
 ],
 "metadata": {
  "kernelspec": {
   "display_name": "Python 3 (ipykernel)",
   "language": "python",
   "name": "python3"
  },
  "language_info": {
   "codemirror_mode": {
    "name": "ipython",
    "version": 3
   },
   "file_extension": ".py",
   "mimetype": "text/x-python",
   "name": "python",
   "nbconvert_exporter": "python",
   "pygments_lexer": "ipython3",
   "version": "3.12.1"
  }
 },
 "nbformat": 4,
 "nbformat_minor": 5
}

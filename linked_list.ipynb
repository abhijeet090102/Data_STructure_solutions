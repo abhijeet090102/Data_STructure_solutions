{
 "cells": [
  {
   "cell_type": "markdown",
   "id": "678614e9-1a84-4f4f-b0f3-7ff5c4b1f1ca",
   "metadata": {},
   "source": [
    "# Linked List"
   ]
  },
  {
   "cell_type": "code",
   "execution_count": 20,
   "id": "8a5ea75b-85dd-4fd5-a900-65a19c5d2f6f",
   "metadata": {
    "editable": true,
    "slideshow": {
     "slide_type": ""
    },
    "tags": []
   },
   "outputs": [],
   "source": [
    "class node:\n",
    "    def __init__(self,v):\n",
    "        self.info = v\n",
    "        self.next = None\n",
    "class Linked_list:\n",
    "    def __init__(self):\n",
    "        self.start = None\n",
    "    def InsertAtLast(self,v):\n",
    "        n = node(v)\n",
    "        if self.start == None:\n",
    "            self.start = n\n",
    "        else:\n",
    "            temp = self.start\n",
    "            while temp.next != None:\n",
    "                temp = temp.next\n",
    "            temp.next = n\n",
    "    def travarse(self):\n",
    "        temp = self.start\n",
    "        while temp.next != None:\n",
    "            print(temp.info)\n",
    "            temp = temp.next\n",
    "        print(temp.info)\n",
    "    def InsertAtFirst(self,v):\n",
    "        n = node(v)\n",
    "        n.next = self.start\n",
    "        self.start = n\n",
    "    def deleteAtBeg(self):\n",
    "        temp = self.start\n",
    "        self.start = temp.next\n",
    "        del temp\n",
    "    def InsertAtSpecificPosition(self,p,v):\n",
    "        n = node(v)\n",
    "        temp = self.start\n",
    "        for i in range(1,p):\n",
    "            temp = temp.next\n",
    "        n.next = temp.next\n",
    "        temp.next = n\n",
    "    def InsertAfterSpecificItem(self,i,v):\n",
    "        n = node(v)\n",
    "        temp = self.start\n",
    "        while temp.info != i:\n",
    "            temp = temp.next\n",
    "        n.next = temp.next\n",
    "        temp.next =n"
   ]
  },
  {
   "cell_type": "code",
   "execution_count": 21,
   "id": "8aada073-5d2e-4946-b610-32670baf23e2",
   "metadata": {
    "editable": true,
    "slideshow": {
     "slide_type": ""
    },
    "tags": []
   },
   "outputs": [
    {
     "name": "stdout",
     "output_type": "stream",
     "text": [
      "8\n",
      "40\n",
      "9\n",
      "40\n",
      "80\n",
      "90\n",
      "9\n"
     ]
    }
   ],
   "source": [
    "ll = Linked_list()\n",
    "ll.InsertAtLast(40)\n",
    "ll.InsertAtLast(9)\n",
    "ll.InsertAtFirst(8)\n",
    "ll.travarse()\n",
    "ll.deleteAtBeg()\n",
    "ll.InsertAtSpecificPosition(1,80)\n",
    "ll.InsertAfterSpecificItem(80,90)\n",
    "ll.travarse()"
   ]
  },
  {
   "cell_type": "code",
   "execution_count": null,
   "id": "fc654011-2b63-468d-856d-c5fa62a3d572",
   "metadata": {
    "editable": true,
    "slideshow": {
     "slide_type": ""
    },
    "tags": []
   },
   "outputs": [],
   "source": []
  }
 ],
 "metadata": {
  "kernelspec": {
   "display_name": "Python 3 (ipykernel)",
   "language": "python",
   "name": "python3"
  },
  "language_info": {
   "codemirror_mode": {
    "name": "ipython",
    "version": 3
   },
   "file_extension": ".py",
   "mimetype": "text/x-python",
   "name": "python",
   "nbconvert_exporter": "python",
   "pygments_lexer": "ipython3",
   "version": "3.12.1"
  }
 },
 "nbformat": 4,
 "nbformat_minor": 5
}
